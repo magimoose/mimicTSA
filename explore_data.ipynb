{
 "cells": [
  {
   "cell_type": "code",
   "execution_count": 9,
   "id": "6e9ade84",
   "metadata": {},
   "outputs": [],
   "source": [
    "import sqlalchemy\n",
    "import os\n",
    "import psycopg2\n",
    "from dotenv import load_dotenv"
   ]
  },
  {
   "cell_type": "code",
   "execution_count": null,
   "id": "1619cf4c",
   "metadata": {},
   "outputs": [],
   "source": [
    "load_dotenv()\n",
    "postgres_password = os.getenv(\"POSTGRES_PASSWORD\")\n",
    "\n",
    "connection = psycopg2.connect(database=\"mimic\", user=\"postgres\", password=postgres_password, host=\"localhost\", port=5432)\n",
    "\n",
    "cursor = connection.cursor()"
   ]
  }
 ],
 "metadata": {
  "kernelspec": {
   "display_name": ".venv",
   "language": "python",
   "name": "python3"
  },
  "language_info": {
   "codemirror_mode": {
    "name": "ipython",
    "version": 3
   },
   "file_extension": ".py",
   "mimetype": "text/x-python",
   "name": "python",
   "nbconvert_exporter": "python",
   "pygments_lexer": "ipython3",
   "version": "3.13.3"
  }
 },
 "nbformat": 4,
 "nbformat_minor": 5
}
